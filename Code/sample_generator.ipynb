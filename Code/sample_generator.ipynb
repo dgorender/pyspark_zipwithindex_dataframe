{
 "cells": [
  {
   "cell_type": "code",
   "execution_count": 1,
   "metadata": {},
   "outputs": [],
   "source": [
    "import random\n",
    "import csv"
   ]
  },
  {
   "cell_type": "code",
   "execution_count": 2,
   "metadata": {},
   "outputs": [],
   "source": [
    "n = 5000000\n",
    "header = ['state_code', 'blood_type', 'marital_status']\n",
    "var = [[x,y,z] for x,y,z in zip([random.choice(range(11,54)) for _ in range(n)], [random.choice(['A', 'B', 'O']) for _ in range(n)], [random.choice(['SINGLE', 'MARRIED', 'DIVORCED', 'WIDOWED']) for _ in range(n)])]"
   ]
  },
  {
   "cell_type": "code",
   "execution_count": 3,
   "metadata": {},
   "outputs": [],
   "source": [
    "with open('/home/dgorender/repo/pyspark_zipwithindex_dataframe/Data/base1.csv', 'w') as csvfile:\n",
    "    csv_writer = csv.writer(csvfile, delimiter=',', quotechar='\"', quoting=csv.QUOTE_MINIMAL)\n",
    "    csv_writer.writerow(header)\n",
    "    for line in var:\n",
    "        csv_writer.writerow(line)"
   ]
  }
 ],
 "metadata": {
  "kernelspec": {
   "display_name": "Python 3",
   "language": "python",
   "name": "python3"
  },
  "language_info": {
   "codemirror_mode": {
    "name": "ipython",
    "version": 3
   },
   "file_extension": ".py",
   "mimetype": "text/x-python",
   "name": "python",
   "nbconvert_exporter": "python",
   "pygments_lexer": "ipython3",
   "version": "3.7.1"
  }
 },
 "nbformat": 4,
 "nbformat_minor": 2
}
