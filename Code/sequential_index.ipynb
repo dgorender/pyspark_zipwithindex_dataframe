{
 "cells": [
  {
   "cell_type": "code",
   "execution_count": 1,
   "metadata": {},
   "outputs": [],
   "source": [
    "import pyspark.sql.functions as F\n",
    "from pyspark.sql.types import *\n",
    "from pyspark.sql.window import Window\n",
    "from pyspark.sql import Row"
   ]
  },
  {
   "cell_type": "code",
   "execution_count": 2,
   "metadata": {
    "scrolled": true
   },
   "outputs": [],
   "source": [
    "df = spark.read.csv('/home/dgorender/repo/pyspark_zipwithindex_dataframe/Data/base1.csv', header=True)"
   ]
  },
  {
   "cell_type": "code",
   "execution_count": 3,
   "metadata": {
    "scrolled": true
   },
   "outputs": [
    {
     "name": "stdout",
     "output_type": "stream",
     "text": [
      "+----------+----------+--------------+\n",
      "|state_code|blood_type|marital_status|\n",
      "+----------+----------+--------------+\n",
      "|        29|         O|      DIVORCED|\n",
      "|        45|         A|       WIDOWED|\n",
      "|        12|         B|      DIVORCED|\n",
      "|        30|         B|      DIVORCED|\n",
      "|        44|         A|      DIVORCED|\n",
      "|        38|         A|       WIDOWED|\n",
      "|        39|         B|       MARRIED|\n",
      "|        51|         O|       WIDOWED|\n",
      "|        25|         A|       MARRIED|\n",
      "|        38|         A|       WIDOWED|\n",
      "|        36|         B|       WIDOWED|\n",
      "|        22|         A|      DIVORCED|\n",
      "|        14|         O|       WIDOWED|\n",
      "|        42|         A|        SINGLE|\n",
      "|        17|         A|      DIVORCED|\n",
      "|        17|         O|      DIVORCED|\n",
      "|        50|         O|      DIVORCED|\n",
      "|        45|         B|       WIDOWED|\n",
      "|        41|         O|       WIDOWED|\n",
      "|        16|         A|       WIDOWED|\n",
      "+----------+----------+--------------+\n",
      "only showing top 20 rows\n",
      "\n"
     ]
    }
   ],
   "source": [
    "df.show()"
   ]
  },
  {
   "cell_type": "code",
   "execution_count": 4,
   "metadata": {},
   "outputs": [],
   "source": [
    "rdd_index = df.rdd.zipWithIndex()"
   ]
  },
  {
   "cell_type": "code",
   "execution_count": 5,
   "metadata": {},
   "outputs": [],
   "source": [
    "def sdf_with_sequential_id(df, indexName, start):\n",
    "    rdd_index = df.rdd.zipWithIndex()\n",
    "    df_index = spark.createDataFrame(rdd_index.map(lambda x: list([k for k in x[0]] + [x[1] + start])), df.schema.add(indexName, LongType()))\n",
    "    return df_index"
   ]
  },
  {
   "cell_type": "code",
   "execution_count": 6,
   "metadata": {
    "scrolled": true
   },
   "outputs": [],
   "source": [
    "df_index = sdf_with_sequential_id(df, 'index', 0)"
   ]
  },
  {
   "cell_type": "code",
   "execution_count": 7,
   "metadata": {},
   "outputs": [
    {
     "name": "stdout",
     "output_type": "stream",
     "text": [
      "+----------+----------+--------------+-----+\n",
      "|state_code|blood_type|marital_status|index|\n",
      "+----------+----------+--------------+-----+\n",
      "|        29|         O|      DIVORCED|    0|\n",
      "|        45|         A|       WIDOWED|    1|\n",
      "|        12|         B|      DIVORCED|    2|\n",
      "|        30|         B|      DIVORCED|    3|\n",
      "|        44|         A|      DIVORCED|    4|\n",
      "|        38|         A|       WIDOWED|    5|\n",
      "|        39|         B|       MARRIED|    6|\n",
      "|        51|         O|       WIDOWED|    7|\n",
      "|        25|         A|       MARRIED|    8|\n",
      "|        38|         A|       WIDOWED|    9|\n",
      "|        36|         B|       WIDOWED|   10|\n",
      "|        22|         A|      DIVORCED|   11|\n",
      "|        14|         O|       WIDOWED|   12|\n",
      "|        42|         A|        SINGLE|   13|\n",
      "|        17|         A|      DIVORCED|   14|\n",
      "|        17|         O|      DIVORCED|   15|\n",
      "|        50|         O|      DIVORCED|   16|\n",
      "|        45|         B|       WIDOWED|   17|\n",
      "|        41|         O|       WIDOWED|   18|\n",
      "|        16|         A|       WIDOWED|   19|\n",
      "+----------+----------+--------------+-----+\n",
      "only showing top 20 rows\n",
      "\n"
     ]
    }
   ],
   "source": [
    "df_index.show()"
   ]
  },
  {
   "cell_type": "code",
   "execution_count": 8,
   "metadata": {},
   "outputs": [
    {
     "name": "stdout",
     "output_type": "stream",
     "text": [
      "0\n"
     ]
    }
   ],
   "source": [
    "print(df_index.count() - df_index.select('index').distinct().count())"
   ]
  }
 ],
 "metadata": {
  "kernelspec": {
   "display_name": "Python 3",
   "language": "python",
   "name": "python3"
  },
  "language_info": {
   "codemirror_mode": {
    "name": "ipython",
    "version": 3
   },
   "file_extension": ".py",
   "mimetype": "text/x-python",
   "name": "python",
   "nbconvert_exporter": "python",
   "pygments_lexer": "ipython3",
   "version": "3.7.1"
  }
 },
 "nbformat": 4,
 "nbformat_minor": 2
}
